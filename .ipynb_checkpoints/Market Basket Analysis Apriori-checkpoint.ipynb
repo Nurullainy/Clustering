{
 "cells": [
  {
   "cell_type": "markdown",
   "metadata": {},
   "source": [
    "#### a) Load the bank transaction dataset using pandas."
   ]
  },
  {
   "cell_type": "code",
   "execution_count": 1,
   "metadata": {},
   "outputs": [],
   "source": [
    "import pandas as pd\n",
    "\n",
    "df = pd.read_csv('lab2.csv')"
   ]
  },
  {
   "cell_type": "markdown",
   "metadata": {},
   "source": [
    "#### b) Print dataset information"
   ]
  },
  {
   "cell_type": "code",
   "execution_count": 2,
   "metadata": {},
   "outputs": [
    {
     "data": {
      "text/html": [
       "<div>\n",
       "<style scoped>\n",
       "    .dataframe tbody tr th:only-of-type {\n",
       "        vertical-align: middle;\n",
       "    }\n",
       "\n",
       "    .dataframe tbody tr th {\n",
       "        vertical-align: top;\n",
       "    }\n",
       "\n",
       "    .dataframe thead th {\n",
       "        text-align: right;\n",
       "    }\n",
       "</style>\n",
       "<table border=\"1\" class=\"dataframe\">\n",
       "  <thead>\n",
       "    <tr style=\"text-align: right;\">\n",
       "      <th></th>\n",
       "      <th>ACCOUNT</th>\n",
       "      <th>SERVICE</th>\n",
       "      <th>VISIT</th>\n",
       "    </tr>\n",
       "  </thead>\n",
       "  <tbody>\n",
       "    <tr>\n",
       "      <th>0</th>\n",
       "      <td>500026</td>\n",
       "      <td>CKING</td>\n",
       "      <td>1</td>\n",
       "    </tr>\n",
       "    <tr>\n",
       "      <th>1</th>\n",
       "      <td>500026</td>\n",
       "      <td>SVG</td>\n",
       "      <td>2</td>\n",
       "    </tr>\n",
       "    <tr>\n",
       "      <th>2</th>\n",
       "      <td>500026</td>\n",
       "      <td>ATM</td>\n",
       "      <td>3</td>\n",
       "    </tr>\n",
       "    <tr>\n",
       "      <th>3</th>\n",
       "      <td>500026</td>\n",
       "      <td>ATM</td>\n",
       "      <td>4</td>\n",
       "    </tr>\n",
       "    <tr>\n",
       "      <th>4</th>\n",
       "      <td>500075</td>\n",
       "      <td>CKING</td>\n",
       "      <td>1</td>\n",
       "    </tr>\n",
       "    <tr>\n",
       "      <th>5</th>\n",
       "      <td>500075</td>\n",
       "      <td>MMDA</td>\n",
       "      <td>2</td>\n",
       "    </tr>\n",
       "    <tr>\n",
       "      <th>6</th>\n",
       "      <td>500075</td>\n",
       "      <td>SVG</td>\n",
       "      <td>3</td>\n",
       "    </tr>\n",
       "    <tr>\n",
       "      <th>7</th>\n",
       "      <td>500075</td>\n",
       "      <td>ATM</td>\n",
       "      <td>4</td>\n",
       "    </tr>\n",
       "    <tr>\n",
       "      <th>8</th>\n",
       "      <td>500075</td>\n",
       "      <td>TRUST</td>\n",
       "      <td>5</td>\n",
       "    </tr>\n",
       "    <tr>\n",
       "      <th>9</th>\n",
       "      <td>500075</td>\n",
       "      <td>TRUST</td>\n",
       "      <td>6</td>\n",
       "    </tr>\n",
       "  </tbody>\n",
       "</table>\n",
       "</div>"
      ],
      "text/plain": [
       "   ACCOUNT SERVICE  VISIT\n",
       "0   500026   CKING      1\n",
       "1   500026     SVG      2\n",
       "2   500026     ATM      3\n",
       "3   500026     ATM      4\n",
       "4   500075   CKING      1\n",
       "5   500075    MMDA      2\n",
       "6   500075     SVG      3\n",
       "7   500075     ATM      4\n",
       "8   500075   TRUST      5\n",
       "9   500075   TRUST      6"
      ]
     },
     "execution_count": 2,
     "metadata": {},
     "output_type": "execute_result"
    }
   ],
   "source": [
    "df.head(10)"
   ]
  },
  {
   "cell_type": "code",
   "execution_count": 3,
   "metadata": {},
   "outputs": [
    {
     "name": "stdout",
     "output_type": "stream",
     "text": [
      "<class 'pandas.core.frame.DataFrame'>\n",
      "RangeIndex: 32367 entries, 0 to 32366\n",
      "Data columns (total 3 columns):\n",
      " #   Column   Non-Null Count  Dtype \n",
      "---  ------   --------------  ----- \n",
      " 0   ACCOUNT  32367 non-null  int64 \n",
      " 1   SERVICE  32367 non-null  object\n",
      " 2   VISIT    32367 non-null  int64 \n",
      "dtypes: int64(2), object(1)\n",
      "memory usage: 758.7+ KB\n"
     ]
    }
   ],
   "source": [
    "df.info()"
   ]
  },
  {
   "cell_type": "markdown",
   "metadata": {},
   "source": [
    "#### c) Group by ACOOUNT and list all SERVICES\n",
    "\n",
    "As we are looking to generate association rules from items purchased by each account holder, we need to group our accounts and then generate list of all services purchased."
   ]
  },
  {
   "cell_type": "code",
   "execution_count": 4,
   "metadata": {},
   "outputs": [
    {
     "data": {
      "text/html": [
       "<div>\n",
       "<style scoped>\n",
       "    .dataframe tbody tr th:only-of-type {\n",
       "        vertical-align: middle;\n",
       "    }\n",
       "\n",
       "    .dataframe tbody tr th {\n",
       "        vertical-align: top;\n",
       "    }\n",
       "\n",
       "    .dataframe thead th {\n",
       "        text-align: right;\n",
       "    }\n",
       "</style>\n",
       "<table border=\"1\" class=\"dataframe\">\n",
       "  <thead>\n",
       "    <tr style=\"text-align: right;\">\n",
       "      <th>SERVICE</th>\n",
       "      <th>ATM</th>\n",
       "      <th>AUTO</th>\n",
       "      <th>CCRD</th>\n",
       "      <th>CD</th>\n",
       "      <th>CKCRD</th>\n",
       "      <th>CKING</th>\n",
       "      <th>HMEQLC</th>\n",
       "      <th>IRA</th>\n",
       "      <th>MMDA</th>\n",
       "      <th>MTG</th>\n",
       "      <th>PLOAN</th>\n",
       "      <th>SVG</th>\n",
       "      <th>TRUST</th>\n",
       "    </tr>\n",
       "    <tr>\n",
       "      <th>ACCOUNT</th>\n",
       "      <th></th>\n",
       "      <th></th>\n",
       "      <th></th>\n",
       "      <th></th>\n",
       "      <th></th>\n",
       "      <th></th>\n",
       "      <th></th>\n",
       "      <th></th>\n",
       "      <th></th>\n",
       "      <th></th>\n",
       "      <th></th>\n",
       "      <th></th>\n",
       "      <th></th>\n",
       "    </tr>\n",
       "  </thead>\n",
       "  <tbody>\n",
       "    <tr>\n",
       "      <th>500026</th>\n",
       "      <td>2.0</td>\n",
       "      <td>0.0</td>\n",
       "      <td>0.0</td>\n",
       "      <td>0.0</td>\n",
       "      <td>0.0</td>\n",
       "      <td>1.0</td>\n",
       "      <td>0.0</td>\n",
       "      <td>0.0</td>\n",
       "      <td>0.0</td>\n",
       "      <td>0.0</td>\n",
       "      <td>0.0</td>\n",
       "      <td>1.0</td>\n",
       "      <td>0.0</td>\n",
       "    </tr>\n",
       "    <tr>\n",
       "      <th>500075</th>\n",
       "      <td>1.0</td>\n",
       "      <td>0.0</td>\n",
       "      <td>0.0</td>\n",
       "      <td>0.0</td>\n",
       "      <td>0.0</td>\n",
       "      <td>1.0</td>\n",
       "      <td>0.0</td>\n",
       "      <td>0.0</td>\n",
       "      <td>1.0</td>\n",
       "      <td>0.0</td>\n",
       "      <td>0.0</td>\n",
       "      <td>1.0</td>\n",
       "      <td>2.0</td>\n",
       "    </tr>\n",
       "    <tr>\n",
       "      <th>500129</th>\n",
       "      <td>2.0</td>\n",
       "      <td>0.0</td>\n",
       "      <td>0.0</td>\n",
       "      <td>0.0</td>\n",
       "      <td>0.0</td>\n",
       "      <td>1.0</td>\n",
       "      <td>0.0</td>\n",
       "      <td>1.0</td>\n",
       "      <td>0.0</td>\n",
       "      <td>0.0</td>\n",
       "      <td>0.0</td>\n",
       "      <td>1.0</td>\n",
       "      <td>0.0</td>\n",
       "    </tr>\n",
       "    <tr>\n",
       "      <th>500256</th>\n",
       "      <td>0.0</td>\n",
       "      <td>0.0</td>\n",
       "      <td>0.0</td>\n",
       "      <td>0.0</td>\n",
       "      <td>2.0</td>\n",
       "      <td>1.0</td>\n",
       "      <td>0.0</td>\n",
       "      <td>0.0</td>\n",
       "      <td>0.0</td>\n",
       "      <td>0.0</td>\n",
       "      <td>0.0</td>\n",
       "      <td>1.0</td>\n",
       "      <td>0.0</td>\n",
       "    </tr>\n",
       "    <tr>\n",
       "      <th>500341</th>\n",
       "      <td>0.0</td>\n",
       "      <td>0.0</td>\n",
       "      <td>0.0</td>\n",
       "      <td>0.0</td>\n",
       "      <td>2.0</td>\n",
       "      <td>1.0</td>\n",
       "      <td>0.0</td>\n",
       "      <td>0.0</td>\n",
       "      <td>0.0</td>\n",
       "      <td>0.0</td>\n",
       "      <td>0.0</td>\n",
       "      <td>1.0</td>\n",
       "      <td>0.0</td>\n",
       "    </tr>\n",
       "    <tr>\n",
       "      <th>500350</th>\n",
       "      <td>0.0</td>\n",
       "      <td>0.0</td>\n",
       "      <td>0.0</td>\n",
       "      <td>2.0</td>\n",
       "      <td>0.0</td>\n",
       "      <td>1.0</td>\n",
       "      <td>0.0</td>\n",
       "      <td>0.0</td>\n",
       "      <td>0.0</td>\n",
       "      <td>0.0</td>\n",
       "      <td>0.0</td>\n",
       "      <td>0.0</td>\n",
       "      <td>0.0</td>\n",
       "    </tr>\n",
       "    <tr>\n",
       "      <th>500458</th>\n",
       "      <td>2.0</td>\n",
       "      <td>0.0</td>\n",
       "      <td>0.0</td>\n",
       "      <td>0.0</td>\n",
       "      <td>0.0</td>\n",
       "      <td>0.0</td>\n",
       "      <td>0.0</td>\n",
       "      <td>0.0</td>\n",
       "      <td>0.0</td>\n",
       "      <td>0.0</td>\n",
       "      <td>0.0</td>\n",
       "      <td>1.0</td>\n",
       "      <td>0.0</td>\n",
       "    </tr>\n",
       "    <tr>\n",
       "      <th>500595</th>\n",
       "      <td>0.0</td>\n",
       "      <td>0.0</td>\n",
       "      <td>0.0</td>\n",
       "      <td>1.0</td>\n",
       "      <td>0.0</td>\n",
       "      <td>1.0</td>\n",
       "      <td>0.0</td>\n",
       "      <td>0.0</td>\n",
       "      <td>0.0</td>\n",
       "      <td>0.0</td>\n",
       "      <td>0.0</td>\n",
       "      <td>1.0</td>\n",
       "      <td>2.0</td>\n",
       "    </tr>\n",
       "    <tr>\n",
       "      <th>500743</th>\n",
       "      <td>0.0</td>\n",
       "      <td>0.0</td>\n",
       "      <td>1.0</td>\n",
       "      <td>0.0</td>\n",
       "      <td>2.0</td>\n",
       "      <td>1.0</td>\n",
       "      <td>1.0</td>\n",
       "      <td>0.0</td>\n",
       "      <td>0.0</td>\n",
       "      <td>1.0</td>\n",
       "      <td>0.0</td>\n",
       "      <td>1.0</td>\n",
       "      <td>0.0</td>\n",
       "    </tr>\n",
       "    <tr>\n",
       "      <th>500744</th>\n",
       "      <td>0.0</td>\n",
       "      <td>0.0</td>\n",
       "      <td>0.0</td>\n",
       "      <td>2.0</td>\n",
       "      <td>0.0</td>\n",
       "      <td>1.0</td>\n",
       "      <td>0.0</td>\n",
       "      <td>0.0</td>\n",
       "      <td>0.0</td>\n",
       "      <td>0.0</td>\n",
       "      <td>0.0</td>\n",
       "      <td>0.0</td>\n",
       "      <td>0.0</td>\n",
       "    </tr>\n",
       "  </tbody>\n",
       "</table>\n",
       "</div>"
      ],
      "text/plain": [
       "SERVICE  ATM  AUTO  CCRD   CD  CKCRD  CKING  HMEQLC  IRA  MMDA  MTG  PLOAN  \\\n",
       "ACCOUNT                                                                      \n",
       "500026   2.0   0.0   0.0  0.0    0.0    1.0     0.0  0.0   0.0  0.0    0.0   \n",
       "500075   1.0   0.0   0.0  0.0    0.0    1.0     0.0  0.0   1.0  0.0    0.0   \n",
       "500129   2.0   0.0   0.0  0.0    0.0    1.0     0.0  1.0   0.0  0.0    0.0   \n",
       "500256   0.0   0.0   0.0  0.0    2.0    1.0     0.0  0.0   0.0  0.0    0.0   \n",
       "500341   0.0   0.0   0.0  0.0    2.0    1.0     0.0  0.0   0.0  0.0    0.0   \n",
       "500350   0.0   0.0   0.0  2.0    0.0    1.0     0.0  0.0   0.0  0.0    0.0   \n",
       "500458   2.0   0.0   0.0  0.0    0.0    0.0     0.0  0.0   0.0  0.0    0.0   \n",
       "500595   0.0   0.0   0.0  1.0    0.0    1.0     0.0  0.0   0.0  0.0    0.0   \n",
       "500743   0.0   0.0   1.0  0.0    2.0    1.0     1.0  0.0   0.0  1.0    0.0   \n",
       "500744   0.0   0.0   0.0  2.0    0.0    1.0     0.0  0.0   0.0  0.0    0.0   \n",
       "\n",
       "SERVICE  SVG  TRUST  \n",
       "ACCOUNT              \n",
       "500026   1.0    0.0  \n",
       "500075   1.0    2.0  \n",
       "500129   1.0    0.0  \n",
       "500256   1.0    0.0  \n",
       "500341   1.0    0.0  \n",
       "500350   0.0    0.0  \n",
       "500458   1.0    0.0  \n",
       "500595   1.0    2.0  \n",
       "500743   1.0    0.0  \n",
       "500744   0.0    0.0  "
      ]
     },
     "execution_count": 4,
     "metadata": {},
     "output_type": "execute_result"
    }
   ],
   "source": [
    "# Group by Account\n",
    "\n",
    "per_account = (df.groupby(['ACCOUNT','SERVICE']).size().unstack().reset_index().fillna(0).set_index('ACCOUNT'))\n",
    "\n",
    "per_account.iloc[0:10,:]"
   ]
  },
  {
   "cell_type": "markdown",
   "metadata": {},
   "source": [
    "The above table shows the distribution of each service in one account. Zero (0) indicates nothing purchased by the account holder whereas the number (eg: 1, 2) is number of times the service is purchased"
   ]
  },
  {
   "cell_type": "code",
   "execution_count": 5,
   "metadata": {},
   "outputs": [
    {
     "data": {
      "text/plain": [
       "ACCOUNT\n",
       "500026                           [CKING, SVG, ATM, ATM]\n",
       "500075            [CKING, MMDA, SVG, ATM, TRUST, TRUST]\n",
       "500129                      [CKING, SVG, IRA, ATM, ATM]\n",
       "500256                       [CKING, SVG, CKCRD, CKCRD]\n",
       "500341                       [CKING, SVG, CKCRD, CKCRD]\n",
       "500350                                  [CKING, CD, CD]\n",
       "500458                                  [SVG, ATM, ATM]\n",
       "500595                   [CKING, SVG, CD, TRUST, TRUST]\n",
       "500743    [CKING, SVG, CCRD, HMEQLC, MTG, CKCRD, CKCRD]\n",
       "500744                                  [CKING, CD, CD]\n",
       "Name: SERVICE, dtype: object"
      ]
     },
     "execution_count": 5,
     "metadata": {},
     "output_type": "execute_result"
    }
   ],
   "source": [
    "# Group by account number and list all the services in list format (for model preparation) \n",
    "\n",
    "transaction = df.groupby(['ACCOUNT'])['SERVICE'].apply(list)\n",
    "\n",
    "transaction.head(10)"
   ]
  },
  {
   "cell_type": "markdown",
   "metadata": {},
   "source": [
    "Now that the transactions table contains all services purchased by each account number, we are ready to build our association rules. apyori's apriori function accepts a number of arguments, mainly:\n",
    "\n",
    "    a)transaction: list of list of items in transactions (eg. [['A', 'B'], ['B', 'C']]).\n",
    "    b)min_support: Minimum support of relations in float percentage. Default 0.1. \n",
    "    c)min_confidence: Minimum confidence of relations in float percentage. Default 0.0.\n",
    "    d)min_lift: Minimum lift of relations in float percentage. Default 0.0.\n",
    "    e)max_length: Max length of the relations. Default None."
   ]
  },
  {
   "cell_type": "markdown",
   "metadata": {},
   "source": [
    "#### Additional note: \n",
    "\n",
    "`Apriori` is an algorithm for frequent item set mining and association rule learning over relational databases. It proceeds by identifying the frequent individual items in the database and extending them to larger and larger item sets as long as those item sets appear sufficiently often in the database.\n",
    "\n",
    "The frequent item sets determined by Apriori can be used to determine association rules which highlight general trends in the database: this has applications in domains such as market basket analysis."
   ]
  },
  {
   "cell_type": "markdown",
   "metadata": {},
   "source": [
    "#### d) We will run our apyori model with our transactions and min_support of 0.05."
   ]
  },
  {
   "cell_type": "code",
   "execution_count": 6,
   "metadata": {},
   "outputs": [
    {
     "name": "stdout",
     "output_type": "stream",
     "text": [
      "\n",
      " [['CKING', 'SVG', 'ATM', 'ATM'], ['CKING', 'MMDA', 'SVG', 'ATM', 'TRUST', 'TRUST'], ['CKING', 'SVG', 'IRA', 'ATM', 'ATM'], ['CKING', 'SVG', 'CKCRD', 'CKCRD'], ['CKING', 'SVG', 'CKCRD', 'CKCRD'], ['CKING', 'CD', 'CD'], ['SVG', 'ATM', 'ATM'], ['CKING', 'SVG', 'CD', 'TRUST', 'TRUST'], ['CKING', 'SVG', 'CCRD', 'HMEQLC', 'MTG', 'CKCRD', 'CKCRD'], ['CKING', 'CD', 'CD']]\n"
     ]
    }
   ],
   "source": [
    "# List all the services in list format (for model preparation)\n",
    "\n",
    "transaction_list = list(transaction)\n",
    "\n",
    "print(\"\\n\", transaction_list[:10])"
   ]
  },
  {
   "cell_type": "code",
   "execution_count": 7,
   "metadata": {},
   "outputs": [
    {
     "name": "stdout",
     "output_type": "stream",
     "text": [
      "\n",
      " [RelationRecord(items=frozenset({'ATM'}), support=0.3845576273307471, ordered_statistics=[OrderedStatistic(items_base=frozenset(), items_add=frozenset({'ATM'}), confidence=0.3845576273307471, lift=1.0)]), RelationRecord(items=frozenset({'AUTO'}), support=0.09285446126892755, ordered_statistics=[OrderedStatistic(items_base=frozenset(), items_add=frozenset({'AUTO'}), confidence=0.09285446126892755, lift=1.0)]), RelationRecord(items=frozenset({'CCRD'}), support=0.154799149042673, ordered_statistics=[OrderedStatistic(items_base=frozenset(), items_add=frozenset({'CCRD'}), confidence=0.154799149042673, lift=1.0)]), RelationRecord(items=frozenset({'CD'}), support=0.24527593542735576, ordered_statistics=[OrderedStatistic(items_base=frozenset(), items_add=frozenset({'CD'}), confidence=0.24527593542735576, lift=1.0)]), RelationRecord(items=frozenset({'CKCRD'}), support=0.11300212739331748, ordered_statistics=[OrderedStatistic(items_base=frozenset(), items_add=frozenset({'CKCRD'}), confidence=0.11300212739331748, lift=1.0)]), RelationRecord(items=frozenset({'CKING'}), support=0.8578400700788387, ordered_statistics=[OrderedStatistic(items_base=frozenset(), items_add=frozenset({'CKING'}), confidence=0.8578400700788387, lift=1.0)]), RelationRecord(items=frozenset({'HMEQLC'}), support=0.164685270929796, ordered_statistics=[OrderedStatistic(items_base=frozenset(), items_add=frozenset({'HMEQLC'}), confidence=0.164685270929796, lift=1.0)]), RelationRecord(items=frozenset({'IRA'}), support=0.10837191840820924, ordered_statistics=[OrderedStatistic(items_base=frozenset(), items_add=frozenset({'IRA'}), confidence=0.10837191840820924, lift=1.0)]), RelationRecord(items=frozenset({'MMDA'}), support=0.17444625203353772, ordered_statistics=[OrderedStatistic(items_base=frozenset(), items_add=frozenset({'MMDA'}), confidence=0.17444625203353772, lift=1.0)]), RelationRecord(items=frozenset({'MTG'}), support=0.07433362532849455, ordered_statistics=[OrderedStatistic(items_base=frozenset(), items_add=frozenset({'MTG'}), confidence=0.07433362532849455, lift=1.0)])]\n"
     ]
    }
   ],
   "source": [
    "from apyori import apriori\n",
    "\n",
    "# Run apyori model with transactions and min_support of 0.05\n",
    "ar_model = list(apriori(transaction_list, min_support=0.05))  # Association rules model\n",
    "\n",
    "# View first 10 rules\n",
    "print(\"\\n\", ar_model[0:10])  # rules in list format"
   ]
  },
  {
   "cell_type": "markdown",
   "metadata": {},
   "source": [
    "Now the output might look very weird, and that is fine. You have provided the following function to help you printing it out. \n",
    "\n",
    "You won't explain how it works and it is not essential for your learning objective, but You have included some comments to help you out."
   ]
  },
  {
   "cell_type": "markdown",
   "metadata": {},
   "source": [
    "The table contains statistics of `Support`, `Confidence` and `Lift` for each of the rules.\n",
    "\n",
    "Consider the rule A -> B. Recall the following:\n",
    "\n",
    "    1. Support of A -> B is the probability that a customer has both A and B.\n",
    "\n",
    "    2. Confidence of A -> B is the probability that a customer has B given that the customer has A.\n",
    "    \n",
    "    3. Expected confidence (not shown here) of A -> B is the probability that a customer has B. Lift of A ? B is a measure of strength of the association. If Lift=2 for the rule A=>B, then a customer having A is twice as likely to have B than a customer chosen at random. Lift is the confidence divided by expected confidence."
   ]
  },
  {
   "cell_type": "markdown",
   "metadata": {},
   "source": [
    "#### Additional note:\n",
    "\n",
    "Association rules analysis is a technique to uncover how items are associated to each other. There are 3 common ways to measure association:\n",
    "\n",
    "1) Measure 1: `Support` - This says how popular an itemset is, as measured by the proportion of transactions in which an itemset appears. If we discover that sales of certain items beyond a certain proportion or tend to have a significant impact on our profits, we might consider using that proportion as your `support` threshold. Thus, we identify itemsets with `support values above this threshold` as significant itemsets.\n",
    "\n",
    "2) Measure 2: `Confidence`. This says how likely item B is purchased when item A is purchased, expressed as {A -> B}. This is measured by the proportion of transactions with item A, in which item B also appears. One drawback of the `confidence` measure is that it might misrepresent the importance of an association. This is because it only accounts for how popular A are, but not B. If B are also very popular in general, there will be a higher chance that a transaction containing A will also contain B, thus inflating the confidence measure. To account for the base popularity of both constituent items, we use a third measure called `Lift`.\n",
    "\n",
    "3) Measure 3: `Lift`. This says how likely item B is purchased when item A is purchased, while controlling for how popular item B is. \n",
    "\n",
    "    a)Lift of {A -> B} = 1, means no association between items. \n",
    "    b)Lift {A -> B} > 1, means that item B is likely to be bought if item A is bought, \n",
    "    c)Lift {A -> B} < 1, means that item B is unlikely to be bought if item A is bought."
   ]
  },
  {
   "cell_type": "code",
   "execution_count": 8,
   "metadata": {},
   "outputs": [
    {
     "name": "stdout",
     "output_type": "stream",
     "text": [
      "[RelationRecord(items=frozenset({'ATM'}), support=0.3845576273307471, ordered_statistics=[OrderedStatistic(items_base=frozenset(), items_add=frozenset({'ATM'}), confidence=0.3845576273307471, lift=1.0)])]\n"
     ]
    }
   ],
   "source": [
    "# Lets view the structure of the rules in the ar_model. Print 1 rule from the model\n",
    "\n",
    "print(ar_model[0:1])"
   ]
  },
  {
   "cell_type": "markdown",
   "metadata": {},
   "source": [
    "The above shows the structure of the rule in the ar_model (Association Rules model). \n",
    "\n",
    "The rule has structure of:\n",
    "\n",
    "    1) items\n",
    "    \n",
    "    2) metrics which set to `support`. Note: Metric can be set to support, confidence or lift\n",
    "    \n",
    "    3) ordered_statistics (item_base, items_add, confidence, and lift) \n",
    "\n",
    "#### Since the Association Rules in the model is not human readable friendly, we will then extract these information and convert it into \n",
    "\n",
    "#### table / dataframe and split the data of `Support`, `Confidence`, and `Lift`"
   ]
  },
  {
   "cell_type": "code",
   "execution_count": 9,
   "metadata": {},
   "outputs": [
    {
     "name": "stdout",
     "output_type": "stream",
     "text": [
      "        IF        THEN   Support  Confidence      Lift\n",
      "0                  ATM  0.384558    0.384558  1.000000\n",
      "1                 AUTO  0.092854    0.092854  1.000000\n",
      "2                 CCRD  0.154799    0.154799  1.000000\n",
      "3                   CD  0.245276    0.245276  1.000000\n",
      "4                CKCRD  0.113002    0.113002  1.000000\n",
      "5                CKING  0.857840    0.857840  1.000000\n",
      "6               HMEQLC  0.164685    0.164685  1.000000\n",
      "7                  IRA  0.108372    0.108372  1.000000\n",
      "8                 MMDA  0.174446    0.174446  1.000000\n",
      "9                  MTG  0.074334    0.074334  1.000000\n",
      "10                 SVG  0.618696    0.618696  1.000000\n",
      "11              CD,ATM  0.071581    0.071581  1.000000\n",
      "12     ATM          CD  0.071581    0.186137  0.758889\n",
      "13      CD         ATM  0.071581    0.291837  0.758889\n",
      "14           CKING,ATM  0.361907    0.361907  1.000000\n",
      "15     ATM       CKING  0.361907    0.941100  1.097058\n",
      "16   CKING         ATM  0.361907    0.421882  1.097058\n",
      "17          HMEQLC,ATM  0.085346    0.085346  1.000000\n",
      "18     ATM      HMEQLC  0.085346    0.221933  1.347619\n",
      "19  HMEQLC         ATM  0.085346    0.518237  1.347619\n"
     ]
    }
   ],
   "source": [
    "def associate_rules_to_df(ar_model):\n",
    "    rules = []\n",
    "    \n",
    "    for associate_rules in ar_model:\n",
    "        for rule in associate_rules.ordered_statistics:\n",
    "            rules.append([','.join(rule.items_base), ','.join(rule.items_add), # items_base = 'IF', items_add = 'THEN' \n",
    "                         associate_rules.support, rule.confidence, rule.lift]) # support, confidence and lift \n",
    "    \n",
    "    return pd.DataFrame(rules, \n",
    "                        columns=['IF', 'THEN', 'Support', 'Confidence', 'Lift']) # return as dataframe \n",
    "\n",
    "transaction_df = associate_rules_to_df(ar_model)\n",
    "\n",
    "print(transaction_df.head(20))"
   ]
  },
  {
   "cell_type": "markdown",
   "metadata": {},
   "source": [
    "#### e) In a typical setting, you would like to view the rules by lift. Sort the rules using code."
   ]
  },
  {
   "cell_type": "code",
   "execution_count": 10,
   "metadata": {},
   "outputs": [
    {
     "name": "stdout",
     "output_type": "stream",
     "text": [
      "                IF           THEN   Support  Confidence      Lift\n",
      "131          CKCRD     CCRD,CKING  0.055813    0.493909  3.325045\n",
      "134     CCRD,CKING          CKCRD  0.055813    0.375737  3.325045\n",
      "33            CCRD          CKCRD  0.055813    0.360550  3.190645\n",
      "130           CCRD    CKING,CKCRD  0.055813    0.360550  3.190645\n",
      "135    CKING,CKCRD           CCRD  0.055813    0.493909  3.190645\n",
      "34           CKCRD           CCRD  0.055813    0.493909  3.190645\n",
      "203     HMEQLC,SVG      CKING,ATM  0.060944    0.546577  1.510268\n",
      "198      CKING,ATM     HMEQLC,SVG  0.060944    0.168396  1.510268\n",
      "196         HMEQLC  CKING,ATM,SVG  0.060944    0.370061  1.489001\n",
      "205  CKING,SVG,ATM         HMEQLC  0.060944    0.245217  1.489001\n"
     ]
    }
   ],
   "source": [
    "# Sort all rules by 'Lift' in descending order\n",
    "\n",
    "transaction_df = transaction_df.sort_values(by='Lift', ascending=0)\n",
    "\n",
    "print(transaction_df.head(10))"
   ]
  },
  {
   "cell_type": "code",
   "execution_count": null,
   "metadata": {},
   "outputs": [],
   "source": []
  }
 ],
 "metadata": {
  "kernelspec": {
   "display_name": "Python 3",
   "language": "python",
   "name": "python3"
  },
  "language_info": {
   "codemirror_mode": {
    "name": "ipython",
    "version": 3
   },
   "file_extension": ".py",
   "mimetype": "text/x-python",
   "name": "python",
   "nbconvert_exporter": "python",
   "pygments_lexer": "ipython3",
   "version": "3.6.5"
  }
 },
 "nbformat": 4,
 "nbformat_minor": 4
}
