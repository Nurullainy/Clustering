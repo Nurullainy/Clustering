{
 "cells": [
  {
   "cell_type": "code",
   "execution_count": 2,
   "metadata": {},
   "outputs": [],
   "source": [
    "import pandas as pd\n",
    "import numpy as np"
   ]
  },
  {
   "cell_type": "code",
   "execution_count": 3,
   "metadata": {},
   "outputs": [],
   "source": [
    "df = pd.read_csv('lab1.csv')"
   ]
  },
  {
   "cell_type": "code",
   "execution_count": 6,
   "metadata": {},
   "outputs": [
    {
     "data": {
      "text/html": [
       "<div>\n",
       "<style scoped>\n",
       "    .dataframe tbody tr th:only-of-type {\n",
       "        vertical-align: middle;\n",
       "    }\n",
       "\n",
       "    .dataframe tbody tr th {\n",
       "        vertical-align: top;\n",
       "    }\n",
       "\n",
       "    .dataframe thead th {\n",
       "        text-align: right;\n",
       "    }\n",
       "</style>\n",
       "<table border=\"1\" class=\"dataframe\">\n",
       "  <thead>\n",
       "    <tr style=\"text-align: right;\">\n",
       "      <th></th>\n",
       "      <th>TargetB</th>\n",
       "      <th>ID</th>\n",
       "      <th>TargetD</th>\n",
       "      <th>GiftCnt36</th>\n",
       "      <th>GiftCntAll</th>\n",
       "      <th>GiftCntCard36</th>\n",
       "      <th>GiftCntCardAll</th>\n",
       "      <th>GiftAvgLast</th>\n",
       "      <th>GiftAvg36</th>\n",
       "      <th>GiftAvgAll</th>\n",
       "      <th>...</th>\n",
       "      <th>PromCntCardAll</th>\n",
       "      <th>StatusCat96NK</th>\n",
       "      <th>StatusCatStarAll</th>\n",
       "      <th>DemCluster</th>\n",
       "      <th>DemAge</th>\n",
       "      <th>DemGender</th>\n",
       "      <th>DemHomeOwner</th>\n",
       "      <th>DemMedHomeValue</th>\n",
       "      <th>DemPctVeterans</th>\n",
       "      <th>DemMedIncome</th>\n",
       "    </tr>\n",
       "  </thead>\n",
       "  <tbody>\n",
       "    <tr>\n",
       "      <th>0</th>\n",
       "      <td>0</td>\n",
       "      <td>14974</td>\n",
       "      <td>NaN</td>\n",
       "      <td>2</td>\n",
       "      <td>4</td>\n",
       "      <td>1</td>\n",
       "      <td>3</td>\n",
       "      <td>17.0</td>\n",
       "      <td>13.50</td>\n",
       "      <td>9.25</td>\n",
       "      <td>...</td>\n",
       "      <td>13</td>\n",
       "      <td>A</td>\n",
       "      <td>0</td>\n",
       "      <td>0</td>\n",
       "      <td>NaN</td>\n",
       "      <td>F</td>\n",
       "      <td>U</td>\n",
       "      <td>0</td>\n",
       "      <td>0</td>\n",
       "      <td>0</td>\n",
       "    </tr>\n",
       "    <tr>\n",
       "      <th>1</th>\n",
       "      <td>0</td>\n",
       "      <td>6294</td>\n",
       "      <td>NaN</td>\n",
       "      <td>1</td>\n",
       "      <td>8</td>\n",
       "      <td>0</td>\n",
       "      <td>3</td>\n",
       "      <td>20.0</td>\n",
       "      <td>20.00</td>\n",
       "      <td>15.88</td>\n",
       "      <td>...</td>\n",
       "      <td>24</td>\n",
       "      <td>A</td>\n",
       "      <td>0</td>\n",
       "      <td>23</td>\n",
       "      <td>67.0</td>\n",
       "      <td>F</td>\n",
       "      <td>U</td>\n",
       "      <td>186800</td>\n",
       "      <td>85</td>\n",
       "      <td>0</td>\n",
       "    </tr>\n",
       "    <tr>\n",
       "      <th>2</th>\n",
       "      <td>1</td>\n",
       "      <td>46110</td>\n",
       "      <td>4.0</td>\n",
       "      <td>6</td>\n",
       "      <td>41</td>\n",
       "      <td>3</td>\n",
       "      <td>20</td>\n",
       "      <td>6.0</td>\n",
       "      <td>5.17</td>\n",
       "      <td>3.73</td>\n",
       "      <td>...</td>\n",
       "      <td>22</td>\n",
       "      <td>S</td>\n",
       "      <td>1</td>\n",
       "      <td>0</td>\n",
       "      <td>NaN</td>\n",
       "      <td>M</td>\n",
       "      <td>U</td>\n",
       "      <td>87600</td>\n",
       "      <td>36</td>\n",
       "      <td>38750</td>\n",
       "    </tr>\n",
       "    <tr>\n",
       "      <th>3</th>\n",
       "      <td>1</td>\n",
       "      <td>185937</td>\n",
       "      <td>10.0</td>\n",
       "      <td>3</td>\n",
       "      <td>12</td>\n",
       "      <td>3</td>\n",
       "      <td>8</td>\n",
       "      <td>10.0</td>\n",
       "      <td>8.67</td>\n",
       "      <td>8.50</td>\n",
       "      <td>...</td>\n",
       "      <td>16</td>\n",
       "      <td>E</td>\n",
       "      <td>1</td>\n",
       "      <td>0</td>\n",
       "      <td>NaN</td>\n",
       "      <td>M</td>\n",
       "      <td>U</td>\n",
       "      <td>139200</td>\n",
       "      <td>27</td>\n",
       "      <td>38942</td>\n",
       "    </tr>\n",
       "    <tr>\n",
       "      <th>4</th>\n",
       "      <td>0</td>\n",
       "      <td>29637</td>\n",
       "      <td>NaN</td>\n",
       "      <td>1</td>\n",
       "      <td>1</td>\n",
       "      <td>1</td>\n",
       "      <td>1</td>\n",
       "      <td>20.0</td>\n",
       "      <td>20.00</td>\n",
       "      <td>20.00</td>\n",
       "      <td>...</td>\n",
       "      <td>6</td>\n",
       "      <td>F</td>\n",
       "      <td>0</td>\n",
       "      <td>35</td>\n",
       "      <td>53.0</td>\n",
       "      <td>M</td>\n",
       "      <td>U</td>\n",
       "      <td>168100</td>\n",
       "      <td>37</td>\n",
       "      <td>71509</td>\n",
       "    </tr>\n",
       "    <tr>\n",
       "      <th>5</th>\n",
       "      <td>1</td>\n",
       "      <td>112632</td>\n",
       "      <td>11.0</td>\n",
       "      <td>3</td>\n",
       "      <td>11</td>\n",
       "      <td>2</td>\n",
       "      <td>9</td>\n",
       "      <td>11.0</td>\n",
       "      <td>10.33</td>\n",
       "      <td>8.27</td>\n",
       "      <td>...</td>\n",
       "      <td>22</td>\n",
       "      <td>S</td>\n",
       "      <td>1</td>\n",
       "      <td>0</td>\n",
       "      <td>47.0</td>\n",
       "      <td>M</td>\n",
       "      <td>H</td>\n",
       "      <td>253100</td>\n",
       "      <td>0</td>\n",
       "      <td>92514</td>\n",
       "    </tr>\n",
       "    <tr>\n",
       "      <th>6</th>\n",
       "      <td>0</td>\n",
       "      <td>123712</td>\n",
       "      <td>NaN</td>\n",
       "      <td>2</td>\n",
       "      <td>4</td>\n",
       "      <td>2</td>\n",
       "      <td>3</td>\n",
       "      <td>15.0</td>\n",
       "      <td>20.00</td>\n",
       "      <td>13.00</td>\n",
       "      <td>...</td>\n",
       "      <td>18</td>\n",
       "      <td>A</td>\n",
       "      <td>0</td>\n",
       "      <td>35</td>\n",
       "      <td>58.0</td>\n",
       "      <td>M</td>\n",
       "      <td>H</td>\n",
       "      <td>234700</td>\n",
       "      <td>22</td>\n",
       "      <td>72868</td>\n",
       "    </tr>\n",
       "    <tr>\n",
       "      <th>7</th>\n",
       "      <td>0</td>\n",
       "      <td>45409</td>\n",
       "      <td>NaN</td>\n",
       "      <td>1</td>\n",
       "      <td>4</td>\n",
       "      <td>0</td>\n",
       "      <td>3</td>\n",
       "      <td>15.0</td>\n",
       "      <td>15.00</td>\n",
       "      <td>11.50</td>\n",
       "      <td>...</td>\n",
       "      <td>15</td>\n",
       "      <td>A</td>\n",
       "      <td>0</td>\n",
       "      <td>8</td>\n",
       "      <td>NaN</td>\n",
       "      <td>U</td>\n",
       "      <td>U</td>\n",
       "      <td>207000</td>\n",
       "      <td>44</td>\n",
       "      <td>0</td>\n",
       "    </tr>\n",
       "    <tr>\n",
       "      <th>8</th>\n",
       "      <td>1</td>\n",
       "      <td>19094</td>\n",
       "      <td>40.0</td>\n",
       "      <td>1</td>\n",
       "      <td>3</td>\n",
       "      <td>0</td>\n",
       "      <td>1</td>\n",
       "      <td>35.0</td>\n",
       "      <td>35.00</td>\n",
       "      <td>28.33</td>\n",
       "      <td>...</td>\n",
       "      <td>22</td>\n",
       "      <td>A</td>\n",
       "      <td>0</td>\n",
       "      <td>35</td>\n",
       "      <td>NaN</td>\n",
       "      <td>F</td>\n",
       "      <td>U</td>\n",
       "      <td>137300</td>\n",
       "      <td>32</td>\n",
       "      <td>0</td>\n",
       "    </tr>\n",
       "    <tr>\n",
       "      <th>9</th>\n",
       "      <td>0</td>\n",
       "      <td>178271</td>\n",
       "      <td>NaN</td>\n",
       "      <td>1</td>\n",
       "      <td>5</td>\n",
       "      <td>1</td>\n",
       "      <td>2</td>\n",
       "      <td>6.0</td>\n",
       "      <td>20.00</td>\n",
       "      <td>11.60</td>\n",
       "      <td>...</td>\n",
       "      <td>18</td>\n",
       "      <td>A</td>\n",
       "      <td>0</td>\n",
       "      <td>13</td>\n",
       "      <td>NaN</td>\n",
       "      <td>U</td>\n",
       "      <td>U</td>\n",
       "      <td>180700</td>\n",
       "      <td>37</td>\n",
       "      <td>0</td>\n",
       "    </tr>\n",
       "  </tbody>\n",
       "</table>\n",
       "<p>10 rows × 28 columns</p>\n",
       "</div>"
      ],
      "text/plain": [
       "   TargetB      ID  TargetD  GiftCnt36  GiftCntAll  GiftCntCard36  \\\n",
       "0        0   14974      NaN          2           4              1   \n",
       "1        0    6294      NaN          1           8              0   \n",
       "2        1   46110      4.0          6          41              3   \n",
       "3        1  185937     10.0          3          12              3   \n",
       "4        0   29637      NaN          1           1              1   \n",
       "5        1  112632     11.0          3          11              2   \n",
       "6        0  123712      NaN          2           4              2   \n",
       "7        0   45409      NaN          1           4              0   \n",
       "8        1   19094     40.0          1           3              0   \n",
       "9        0  178271      NaN          1           5              1   \n",
       "\n",
       "   GiftCntCardAll  GiftAvgLast  GiftAvg36  GiftAvgAll  ...  PromCntCardAll  \\\n",
       "0               3         17.0      13.50        9.25  ...              13   \n",
       "1               3         20.0      20.00       15.88  ...              24   \n",
       "2              20          6.0       5.17        3.73  ...              22   \n",
       "3               8         10.0       8.67        8.50  ...              16   \n",
       "4               1         20.0      20.00       20.00  ...               6   \n",
       "5               9         11.0      10.33        8.27  ...              22   \n",
       "6               3         15.0      20.00       13.00  ...              18   \n",
       "7               3         15.0      15.00       11.50  ...              15   \n",
       "8               1         35.0      35.00       28.33  ...              22   \n",
       "9               2          6.0      20.00       11.60  ...              18   \n",
       "\n",
       "   StatusCat96NK  StatusCatStarAll  DemCluster  DemAge  DemGender  \\\n",
       "0              A                 0           0     NaN          F   \n",
       "1              A                 0          23    67.0          F   \n",
       "2              S                 1           0     NaN          M   \n",
       "3              E                 1           0     NaN          M   \n",
       "4              F                 0          35    53.0          M   \n",
       "5              S                 1           0    47.0          M   \n",
       "6              A                 0          35    58.0          M   \n",
       "7              A                 0           8     NaN          U   \n",
       "8              A                 0          35     NaN          F   \n",
       "9              A                 0          13     NaN          U   \n",
       "\n",
       "   DemHomeOwner  DemMedHomeValue  DemPctVeterans DemMedIncome  \n",
       "0             U                0               0            0  \n",
       "1             U           186800              85            0  \n",
       "2             U            87600              36        38750  \n",
       "3             U           139200              27        38942  \n",
       "4             U           168100              37        71509  \n",
       "5             H           253100               0        92514  \n",
       "6             H           234700              22        72868  \n",
       "7             U           207000              44            0  \n",
       "8             U           137300              32            0  \n",
       "9             U           180700              37            0  \n",
       "\n",
       "[10 rows x 28 columns]"
      ]
     },
     "execution_count": 6,
     "metadata": {},
     "output_type": "execute_result"
    }
   ],
   "source": [
    "df.head(10)"
   ]
  },
  {
   "cell_type": "markdown",
   "metadata": {},
   "source": [
    "## 1. Prequisite - Preprocessing Data\n",
    "\n",
    "Perform the following steps before trying the lab test 2:\n",
    "Import pandas as \"pd\" and load the house price dataset into \"df\". Print dataset information to refresh your memory. Run preprocess_data function on the dataframe to perform preprocessing steps discussed last week (lab 1 dataset)."
   ]
  },
  {
   "cell_type": "code",
   "execution_count": 7,
   "metadata": {},
   "outputs": [],
   "source": [
    "# Dropping unnecessary variable TargetD. Drop TargetD\n",
    "\n",
    "df = df.drop('TargetD', axis=1)"
   ]
  },
  {
   "cell_type": "code",
   "execution_count": 8,
   "metadata": {},
   "outputs": [],
   "source": [
    "# Change DemCluster from integer to nominal/str\n",
    "\n",
    "df['DemCluster'] = df['DemCluster'].astype(str)"
   ]
  },
  {
   "cell_type": "code",
   "execution_count": 9,
   "metadata": {},
   "outputs": [],
   "source": [
    "# Change to Binary \n",
    "\n",
    "df['DemHomeOwner']=df['DemHomeOwner'].replace({'H': 1,'U':0})"
   ]
  },
  {
   "cell_type": "code",
   "execution_count": 10,
   "metadata": {},
   "outputs": [],
   "source": [
    "# Denote errorneous values in DemMidIncome\n",
    "\n",
    "mask = df['DemMedIncome'] < 1\n",
    "df.loc[mask, 'DemMedIncome'] = np.nan"
   ]
  },
  {
   "cell_type": "code",
   "execution_count": 11,
   "metadata": {},
   "outputs": [
    {
     "data": {
      "text/plain": [
       "43100.0    10\n",
       "72339.0     8\n",
       "48772.0     8\n",
       "46250.0     8\n",
       "49277.0     7\n",
       "           ..\n",
       "40750.0     1\n",
       "30885.0     1\n",
       "31404.0     1\n",
       "38339.0     1\n",
       "60430.0     1\n",
       "Name: DemMedIncome, Length: 4462, dtype: int64"
      ]
     },
     "execution_count": 11,
     "metadata": {},
     "output_type": "execute_result"
    }
   ],
   "source": [
    "df['DemMedIncome'].value_counts()"
   ]
  },
  {
   "cell_type": "code",
   "execution_count": 12,
   "metadata": {},
   "outputs": [],
   "source": [
    "# Imputing missing values with mean value\n",
    "\n",
    "df['DemAge'] = df['DemAge'].fillna(value=df['DemAge'].mean())\n",
    "\n",
    "\n",
    "df['DemMedIncome'] = df['DemMedIncome'].fillna(value=df['DemMedIncome'].mean())\n",
    "\n",
    "\n",
    "df['GiftAvgCard36'] = df['GiftAvgCard36'].fillna(value=df['GiftAvgCard36'].mean())\n"
   ]
  },
  {
   "cell_type": "code",
   "execution_count": 13,
   "metadata": {},
   "outputs": [
    {
     "data": {
      "text/plain": [
       "TargetB             0\n",
       "ID                  0\n",
       "GiftCnt36           0\n",
       "GiftCntAll          0\n",
       "GiftCntCard36       0\n",
       "GiftCntCardAll      0\n",
       "GiftAvgLast         0\n",
       "GiftAvg36           0\n",
       "GiftAvgAll          0\n",
       "GiftAvgCard36       0\n",
       "GiftTimeLast        0\n",
       "GiftTimeFirst       0\n",
       "PromCnt12           0\n",
       "PromCnt36           0\n",
       "PromCntAll          0\n",
       "PromCntCard12       0\n",
       "PromCntCard36       0\n",
       "PromCntCardAll      0\n",
       "StatusCat96NK       0\n",
       "StatusCatStarAll    0\n",
       "DemCluster          0\n",
       "DemAge              0\n",
       "DemGender           0\n",
       "DemHomeOwner        0\n",
       "DemMedHomeValue     0\n",
       "DemPctVeterans      0\n",
       "DemMedIncome        0\n",
       "dtype: int64"
      ]
     },
     "execution_count": 13,
     "metadata": {},
     "output_type": "execute_result"
    }
   ],
   "source": [
    "# Verifying non missing values\n",
    "\n",
    "df.isnull().sum()"
   ]
  },
  {
   "cell_type": "code",
   "execution_count": 14,
   "metadata": {},
   "outputs": [
    {
     "name": "stdout",
     "output_type": "stream",
     "text": [
      "Before: 27\n",
      "After: 87\n"
     ]
    }
   ],
   "source": [
    "# Change data to categorical variables to binary variables\n",
    "\n",
    "df['DemGender'] = df['DemGender'].astype('category')\n",
    "\n",
    "demo_df = pd.get_dummies(df['DemGender'])\n",
    "demo_df.head(5)\n",
    "\n",
    "# one hot encoding all categorical variables\n",
    "# all numerical variables are automatically excluded\n",
    "# number of columns after the conversion should explode\n",
    "print(\"Before:\", len(df.columns))\n",
    "\n",
    "# one hot encoding\n",
    "df = pd.get_dummies(df)\n",
    "\n",
    "print(\"After:\", len(df.columns))"
   ]
  },
  {
   "cell_type": "markdown",
   "metadata": {},
   "source": [
    "## 2. Data Partitioning \n",
    "\n",
    "#### Answer for Question (a) until (d) are in word file"
   ]
  },
  {
   "cell_type": "markdown",
   "metadata": {},
   "source": [
    "## 3. Decision Tree"
   ]
  },
  {
   "cell_type": "markdown",
   "metadata": {},
   "source": [
    "### a) Import and build a decision tree classifier. "
   ]
  },
  {
   "cell_type": "code",
   "execution_count": 15,
   "metadata": {},
   "outputs": [],
   "source": [
    "from sklearn.model_selection import train_test_split"
   ]
  },
  {
   "cell_type": "markdown",
   "metadata": {},
   "source": [
    "### b) Set the random state to 0 to ensure your result is similar with the answers"
   ]
  },
  {
   "cell_type": "code",
   "execution_count": 16,
   "metadata": {},
   "outputs": [],
   "source": [
    "# Assigning X and y variables. y variable is TargetB while the rest of the variables are X variables\n",
    "\n",
    "y = df['TargetB']\n",
    "X = df.drop(['TargetB'], axis=1)\n",
    "\n",
    "\n",
    "# setting random state\n",
    "rs = 123\n",
    "\n",
    "# Training set = 60%\n",
    "# Test Set = 40%\n",
    "X_mat = np.asmatrix(X)\n",
    "X_train, X_test, y_train, y_test = train_test_split(X_mat, y, test_size=0.4, \n",
    "                                                    stratify=y, random_state=rs)"
   ]
  },
  {
   "cell_type": "markdown",
   "metadata": {},
   "source": [
    "### c) Fit it against the training data"
   ]
  },
  {
   "cell_type": "code",
   "execution_count": 17,
   "metadata": {},
   "outputs": [
    {
     "data": {
      "text/plain": [
       "DecisionTreeClassifier(random_state=123)"
      ]
     },
     "execution_count": 17,
     "metadata": {},
     "output_type": "execute_result"
    }
   ],
   "source": [
    "from sklearn.tree import DecisionTreeClassifier\n",
    "from sklearn.metrics import classification_report, accuracy_score\n",
    "\n",
    "\n",
    "# Building the model by importing DecisionTreeClassifier, initialise a model, \n",
    "# and then training it using .fit function. \n",
    "\n",
    "model = DecisionTreeClassifier(random_state=rs)\n",
    "model.fit(X_train, y_train)"
   ]
  },
  {
   "cell_type": "markdown",
   "metadata": {},
   "source": [
    "### d) What is the performance of the model against training data? "
   ]
  },
  {
   "cell_type": "code",
   "execution_count": 18,
   "metadata": {},
   "outputs": [
    {
     "name": "stdout",
     "output_type": "stream",
     "text": [
      "Train accuracy: 1.0\n"
     ]
    }
   ],
   "source": [
    "print(\"Train accuracy:\", model.score(X_train, y_train))"
   ]
  },
  {
   "cell_type": "markdown",
   "metadata": {},
   "source": [
    "### e) How about against the test data? Do you see any indication of overfitting here?"
   ]
  },
  {
   "cell_type": "code",
   "execution_count": 19,
   "metadata": {},
   "outputs": [
    {
     "name": "stdout",
     "output_type": "stream",
     "text": [
      "              precision    recall  f1-score   support\n",
      "\n",
      "           0       0.52      0.53      0.53      1938\n",
      "           1       0.52      0.52      0.52      1937\n",
      "\n",
      "    accuracy                           0.52      3875\n",
      "   macro avg       0.52      0.52      0.52      3875\n",
      "weighted avg       0.52      0.52      0.52      3875\n",
      "\n"
     ]
    }
   ],
   "source": [
    "y_pred = model.predict(X_test)\n",
    "\n",
    "print(classification_report(y_test, y_pred))"
   ]
  },
  {
   "cell_type": "markdown",
   "metadata": {},
   "source": [
    "### f) What are the top 5 most important features in this model?"
   ]
  },
  {
   "cell_type": "code",
   "execution_count": 21,
   "metadata": {},
   "outputs": [
    {
     "name": "stdout",
     "output_type": "stream",
     "text": [
      "ID : 0.08314249433780783\n",
      "DemPctVeterans : 0.07479030772835048\n",
      "DemMedHomeValue : 0.0668472171475843\n",
      "DemMedIncome : 0.06336851046766755\n",
      "GiftAvgCard36 : 0.05351061467421154\n"
     ]
    }
   ],
   "source": [
    "# grab feature importances from the model and feature name from the original X\n",
    "importances = model.feature_importances_\n",
    "feature_names = X.columns\n",
    "\n",
    "# sort them out in descending order\n",
    "indices = np.argsort(importances)\n",
    "indices = np.flip(indices, axis=0)\n",
    "\n",
    "# Print 5 most important features\n",
    "indices = indices[:5]\n",
    "\n",
    "for i in indices:\n",
    "    print(feature_names[i], ':', importances[i])"
   ]
  },
  {
   "cell_type": "markdown",
   "metadata": {},
   "source": [
    "### g) Visualise the structure of your decision tree. Can you identify characteristics of important features?"
   ]
  },
  {
   "cell_type": "code",
   "execution_count": 42,
   "metadata": {},
   "outputs": [],
   "source": [
    "import pydot\n",
    "from io import StringIO\n",
    "from sklearn.tree import export_graphviz\n",
    "\n",
    "# visualize\n",
    "dotfile = StringIO()\n",
    "export_graphviz(model, out_file=dotfile, feature_names=X.columns)\n",
    "graph = pydot.graph_from_dot_data(dotfile.getvalue())\n",
    "graph[0].write_png(\"lab2_dt1.png\")"
   ]
  },
  {
   "cell_type": "code",
   "execution_count": 32,
   "metadata": {},
   "outputs": [
    {
     "name": "stdout",
     "output_type": "stream",
     "text": [
      "Train accuracy: 0.5758045086904148 \n",
      "Test accuracy: 0.552258064516129\n",
      "\n",
      "              precision    recall  f1-score   support\n",
      "\n",
      "           0       0.56      0.51      0.53      1938\n",
      "           1       0.55      0.59      0.57      1937\n",
      "\n",
      "    accuracy                           0.55      3875\n",
      "   macro avg       0.55      0.55      0.55      3875\n",
      "weighted avg       0.55      0.55      0.55      3875\n",
      "\n"
     ]
    }
   ],
   "source": [
    "#retrain with a small max_depth limit\n",
    "\n",
    "model = DecisionTreeClassifier(max_depth=3, random_state=rs)\n",
    "model.fit(X_train, y_train)\n",
    "\n",
    "print(\"Train accuracy:\", model.score(X_train, y_train),\"\\nTest accuracy:\", model.score(X_test, y_test))\n",
    "print()\n",
    "\n",
    "y_pred = model.predict(X_test)\n",
    "print(classification_report(y_test, y_pred))"
   ]
  },
  {
   "cell_type": "code",
   "execution_count": 33,
   "metadata": {},
   "outputs": [
    {
     "name": "stdout",
     "output_type": "stream",
     "text": [
      "GiftAvgCard36 : 0.49486357950461224\n",
      "GiftCnt36 : 0.16501904655117322\n",
      "GiftTimeLast : 0.14871295169752688\n",
      "DemMedHomeValue : 0.08179111985948762\n",
      "DemAge : 0.06590456324563769\n",
      "GiftAvg36 : 0.043708739141562473\n",
      "DemCluster_11 : 0.0\n",
      "StatusCat96NK_F : 0.0\n",
      "StatusCat96NK_L : 0.0\n",
      "StatusCat96NK_N : 0.0\n",
      "StatusCat96NK_S : 0.0\n",
      "DemCluster_0 : 0.0\n",
      "DemCluster_1 : 0.0\n",
      "DemCluster_10 : 0.0\n",
      "DemCluster_13 : 0.0\n",
      "DemCluster_12 : 0.0\n",
      "StatusCat96NK_A : 0.0\n",
      "DemCluster_14 : 0.0\n",
      "DemCluster_15 : 0.0\n",
      "DemCluster_16 : 0.0\n",
      "DemCluster_17 : 0.0\n",
      "DemCluster_18 : 0.0\n",
      "DemCluster_19 : 0.0\n",
      "StatusCat96NK_E : 0.0\n",
      "DemGender_U : 0.0\n",
      "DemMedIncome : 0.0\n",
      "DemPctVeterans : 0.0\n",
      "GiftCntAll : 0.0\n",
      "GiftCntCard36 : 0.0\n",
      "GiftCntCardAll : 0.0\n",
      "GiftAvgLast : 0.0\n",
      "GiftAvgAll : 0.0\n",
      "GiftTimeFirst : 0.0\n",
      "PromCnt12 : 0.0\n",
      "PromCnt36 : 0.0\n",
      "PromCntAll : 0.0\n",
      "PromCntCard12 : 0.0\n",
      "PromCntCard36 : 0.0\n",
      "PromCntCardAll : 0.0\n",
      "StatusCatStarAll : 0.0\n",
      "DemHomeOwner : 0.0\n",
      "DemGender_M : 0.0\n",
      "DemCluster_2 : 0.0\n",
      "DemCluster_20 : 0.0\n",
      "DemCluster_21 : 0.0\n",
      "DemCluster_5 : 0.0\n",
      "DemCluster_42 : 0.0\n",
      "DemCluster_43 : 0.0\n",
      "DemCluster_44 : 0.0\n",
      "DemCluster_45 : 0.0\n",
      "DemCluster_46 : 0.0\n",
      "DemCluster_47 : 0.0\n",
      "DemCluster_48 : 0.0\n",
      "DemCluster_49 : 0.0\n",
      "DemCluster_50 : 0.0\n",
      "DemCluster_22 : 0.0\n",
      "DemCluster_51 : 0.0\n",
      "DemCluster_52 : 0.0\n",
      "DemCluster_53 : 0.0\n",
      "DemCluster_6 : 0.0\n",
      "DemCluster_7 : 0.0\n",
      "DemCluster_8 : 0.0\n",
      "DemCluster_9 : 0.0\n",
      "DemGender_F : 0.0\n",
      "DemCluster_41 : 0.0\n",
      "DemCluster_40 : 0.0\n",
      "DemCluster_4 : 0.0\n",
      "DemCluster_39 : 0.0\n",
      "DemCluster_23 : 0.0\n",
      "DemCluster_24 : 0.0\n",
      "DemCluster_25 : 0.0\n",
      "DemCluster_26 : 0.0\n",
      "DemCluster_27 : 0.0\n",
      "DemCluster_28 : 0.0\n",
      "DemCluster_29 : 0.0\n",
      "DemCluster_3 : 0.0\n",
      "DemCluster_30 : 0.0\n",
      "DemCluster_31 : 0.0\n",
      "DemCluster_32 : 0.0\n",
      "DemCluster_33 : 0.0\n",
      "DemCluster_34 : 0.0\n",
      "DemCluster_35 : 0.0\n",
      "DemCluster_36 : 0.0\n",
      "DemCluster_37 : 0.0\n",
      "DemCluster_38 : 0.0\n",
      "ID : 0.0\n"
     ]
    }
   ],
   "source": [
    "importances = model.feature_importances_\n",
    "feature_names = X.columns\n",
    "\n",
    "# sort them out in descending order\n",
    "indices = np.argsort(importances)\n",
    "indices = np.flip(indices, axis=0)\n",
    "\n",
    "# Print all variable X\n",
    "indices = indices[:]\n",
    "\n",
    "for i in indices:\n",
    "    print(feature_names[i], ':', importances[i])\n",
    "\n",
    "# visualize\n",
    "dotfile = StringIO()\n",
    "export_graphviz(model, out_file=dotfile, feature_names=X.columns)\n",
    "graph = pydot.graph_from_dot_data(dotfile.getvalue())\n",
    "graph[0].write_png(\"lab2_dt2.png\") # saved in the following file"
   ]
  },
  {
   "cell_type": "markdown",
   "metadata": {},
   "source": [
    "![GridSearchCV decision tree](lab2_dt1.png)"
   ]
  },
  {
   "cell_type": "code",
   "execution_count": 34,
   "metadata": {},
   "outputs": [],
   "source": [
    "test_score = []\n",
    "train_score = []\n",
    "\n",
    "# check the model performance for max depth from 2-20\n",
    "for max_depth in range(2, 21):\n",
    "    model = DecisionTreeClassifier(max_depth=max_depth, random_state=rs)\n",
    "    model.fit(X_train, y_train)\n",
    "    \n",
    "    test_score.append(model.score(X_test, y_test))\n",
    "    train_score.append(model.score(X_train, y_train))"
   ]
  },
  {
   "cell_type": "code",
   "execution_count": 35,
   "metadata": {},
   "outputs": [
    {
     "data": {
      "image/png": "[encoded data removed]",
      "text/plain": [
       "<Figure size 432x288 with 1 Axes>"
      ]
     },
     "metadata": {
      "needs_background": "light"
     },
     "output_type": "display_data"
    }
   ],
   "source": [
    "import matplotlib.pyplot as plt\n",
    "\n",
    "# plot max depth hyperparameter values vs training and test accuracy score\n",
    "plt.plot(range(2, 21), train_score, 'b', range(2,21), test_score, 'r')\n",
    "plt.xlabel('max_depth\\nBlue = training acc. Red = test acc.')\n",
    "plt.ylabel('accuracy')\n",
    "plt.show()"
   ]
  },
  {
   "cell_type": "code",
   "execution_count": 36,
   "metadata": {},
   "outputs": [
    {
     "name": "stdout",
     "output_type": "stream",
     "text": [
      "Train accuracy: 0.6100499053519187\n",
      "Test accuracy: 0.5553548387096774\n",
      "              precision    recall  f1-score   support\n",
      "\n",
      "           0       0.55      0.60      0.57      1938\n",
      "           1       0.56      0.51      0.53      1937\n",
      "\n",
      "    accuracy                           0.56      3875\n",
      "   macro avg       0.56      0.56      0.55      3875\n",
      "weighted avg       0.56      0.56      0.55      3875\n",
      "\n",
      "{'criterion': 'gini', 'max_depth': 6, 'min_samples_leaf': 20}\n"
     ]
    }
   ],
   "source": [
    "from sklearn.model_selection import GridSearchCV\n",
    "# grid search CV\n",
    "params = {'criterion': ['gini', 'entropy'],\n",
    "          'max_depth': range(2, 7),\n",
    "          'min_samples_leaf': range(20, 60, 10)}\n",
    "\n",
    "cv = GridSearchCV(param_grid=params, estimator=DecisionTreeClassifier(random_state=rs), cv=10)\n",
    "cv.fit(X_train, y_train)\n",
    "\n",
    "print(\"Train accuracy:\", cv.score(X_train, y_train))\n",
    "print(\"Test accuracy:\", cv.score(X_test, y_test))\n",
    "\n",
    "# test the best model\n",
    "y_pred = cv.predict(X_test)\n",
    "print(classification_report(y_test, y_pred))\n",
    "\n",
    "# print parameters of the best model\n",
    "print(cv.best_params_)"
   ]
  },
  {
   "cell_type": "code",
   "execution_count": 37,
   "metadata": {},
   "outputs": [
    {
     "name": "stdout",
     "output_type": "stream",
     "text": [
      "Train accuracy: 0.5961108242987437\n",
      "Test accuracy: 0.5463225806451613\n",
      "              precision    recall  f1-score   support\n",
      "\n",
      "           0       0.54      0.65      0.59      1938\n",
      "           1       0.56      0.45      0.50      1937\n",
      "\n",
      "    accuracy                           0.55      3875\n",
      "   macro avg       0.55      0.55      0.54      3875\n",
      "weighted avg       0.55      0.55      0.54      3875\n",
      "\n",
      "{'criterion': 'gini', 'max_depth': 5, 'min_samples_leaf': 53}\n"
     ]
    }
   ],
   "source": [
    "# grid search CV #2\n",
    "params = {'criterion': ['gini', 'entropy'],\n",
    "          'max_depth': range(2, 6),\n",
    "          'min_samples_leaf': range(45, 56)}\n",
    "\n",
    "cv = GridSearchCV(param_grid=params, estimator=DecisionTreeClassifier(random_state=rs), cv=10)\n",
    "cv.fit(X_train, y_train)\n",
    "\n",
    "print(\"Train accuracy:\", cv.score(X_train, y_train))\n",
    "print(\"Test accuracy:\", cv.score(X_test, y_test))\n",
    "\n",
    "# test the best model\n",
    "y_pred = cv.predict(X_test)\n",
    "print(classification_report(y_test, y_pred))\n",
    "\n",
    "# print parameters of the best model\n",
    "print(cv.best_params_)"
   ]
  },
  {
   "cell_type": "code",
   "execution_count": 48,
   "metadata": {},
   "outputs": [],
   "source": [
    "def analyse_feature_importance(dm_model, feature_names, n_to_display=20):\n",
    "    # grab feature importances from the model\n",
    "    importances = dm_model.feature_importances_\n",
    "    \n",
    "    # sort them out in descending order\n",
    "    indices = np.argsort(importances)\n",
    "    indices = np.flip(indices, axis=0)\n",
    "\n",
    "    # limit to 20 features, you can leave this out to print out everything\n",
    "    indices = indices[:n_to_display]\n",
    "\n",
    "    for i in indices:\n",
    "        print(feature_names[i], ':', importances[i])\n",
    "\n",
    "def visualize_decision_tree(dm_model, feature_names, save_name):\n",
    "    dotfile = StringIO()\n",
    "    export_graphviz(dm_model, out_file=dotfile, feature_names=feature_names)\n",
    "    graph = pydot.graph_from_dot_data(dotfile.getvalue())\n",
    "    graph[0].write_png(filename) # saved in the following file"
   ]
  },
  {
   "cell_type": "code",
   "execution_count": 49,
   "metadata": {},
   "outputs": [
    {
     "name": "stdout",
     "output_type": "stream",
     "text": [
      "GiftAvgCard36 : 0.39069592195828107\n",
      "GiftTimeLast : 0.13113212653934825\n",
      "GiftCnt36 : 0.12062057961111264\n",
      "DemMedHomeValue : 0.10169578774823369\n",
      "DemAge : 0.04817290357595713\n",
      "DemMedIncome : 0.04510381371895925\n",
      "ID : 0.040541251462065046\n",
      "GiftAvg36 : 0.031948878384115885\n",
      "GiftTimeFirst : 0.029637632217215045\n",
      "GiftAvgAll : 0.02413042793415103\n",
      "GiftCntAll : 0.02204895987045192\n",
      "PromCnt12 : 0.014271716980108904\n",
      "DemCluster_12 : 0.0\n",
      "StatusCat96NK_S : 0.0\n",
      "DemCluster_0 : 0.0\n",
      "DemCluster_1 : 0.0\n",
      "DemCluster_10 : 0.0\n",
      "DemCluster_11 : 0.0\n",
      "DemCluster_13 : 0.0\n",
      "StatusCat96NK_L : 0.0\n"
     ]
    }
   ],
   "source": [
    "# do the feature importance and visualization analysis on GridSearchCV's best model\n",
    "from dm_tools import analyse_feature_importance, visualize_decision_tree\n",
    "\n",
    "analyse_feature_importance(cv.best_estimator_, X.columns, 20)\n",
    "visualize_decision_tree(cv.best_estimator_, X.columns, \"optimal_tree.png\")"
   ]
  },
  {
   "cell_type": "markdown",
   "metadata": {},
   "source": [
    "![GridSearchCV decision tree](optimal_tree.png)"
   ]
  }
 ],
 "metadata": {
  "kernelspec": {
   "display_name": "Python 3",
   "language": "python",
   "name": "python3"
  },
  "language_info": {
   "codemirror_mode": {
    "name": "ipython",
    "version": 3
   },
   "file_extension": ".py",
   "mimetype": "text/x-python",
   "name": "python",
   "nbconvert_exporter": "python",
   "pygments_lexer": "ipython3",
   "version": "3.6.5"
  }
 },
 "nbformat": 4,
 "nbformat_minor": 4
}
